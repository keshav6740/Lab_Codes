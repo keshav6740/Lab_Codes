{
 "cells": [
  {
   "cell_type": "markdown",
   "id": "9bd55e4c-bb21-4e41-8322-cc24252d409d",
   "metadata": {},
   "source": [
    "# ML"
   ]
  },
  {
   "cell_type": "code",
   "execution_count": 42,
   "id": "f5adefb0-f434-463f-9347-cd1ca74a39dd",
   "metadata": {},
   "outputs": [],
   "source": [
    "import numpy as np\n",
    "import pandas as pd\n",
    "from sklearn.linear_model import LinearRegression\n",
    "from sklearn.naive_bayes import GaussianNB"
   ]
  },
  {
   "cell_type": "markdown",
   "id": "42ad4485-1434-453d-8152-037c7d4dd28b",
   "metadata": {},
   "source": [
    "### Linear Rgression withouot sklearn"
   ]
  },
  {
   "cell_type": "code",
   "execution_count": 43,
   "id": "bfec3517-4da1-4ac4-938c-186b3688780a",
   "metadata": {},
   "outputs": [
    {
     "data": {
      "text/plain": [
       "(0.8, 0.39999999999999947, 0.48000000000000015, 0.692820323027551)"
      ]
     },
     "execution_count": 43,
     "metadata": {},
     "output_type": "execute_result"
    }
   ],
   "source": [
    "x = np.array([1, 2, 4, 3, 5])\n",
    "y = np.array([1, 3, 3, 2, 5])\n",
    "\n",
    "x_mean = x.mean()\n",
    "y_mean = y.mean()\n",
    "\n",
    "b1 = np.sum((x-x_mean)*(y-y_mean)) / np.sum((x-x_mean)**2)\n",
    "b0 = y_mean - b1*x_mean\n",
    "\n",
    "y_pred = b1*x + b0\n",
    "residual = y-y_pred\n",
    "\n",
    "MSE = np.mean(residual**2)\n",
    "RMSE = np.sqrt(MSE)\n",
    "\n",
    "b1 , b0 , MSE , RMSE"
   ]
  },
  {
   "cell_type": "markdown",
   "id": "00eb60b1-64d0-4a43-8c80-f50a87ac0647",
   "metadata": {},
   "source": [
    "### Linear Rgression with sklearn"
   ]
  },
  {
   "cell_type": "code",
   "execution_count": 44,
   "id": "1fdc119d-4e9e-401d-a21c-22272db4eac0",
   "metadata": {},
   "outputs": [
    {
     "data": {
      "text/plain": [
       "(array([0.8]), 0.3999999999999999, 0.4800000000000001, 0.692820323027551)"
      ]
     },
     "execution_count": 44,
     "metadata": {},
     "output_type": "execute_result"
    }
   ],
   "source": [
    "model = LinearRegression()\n",
    "x = x.reshape(-1,1)\n",
    "\n",
    "model.fit(x,y)\n",
    "\n",
    "y_pred_sklearn = model.predict(x)\n",
    "\n",
    "MSE_sklearn = np.mean((y-y_pred_sklearn)**2)\n",
    "RMSE_sklearn = np.sqrt(MSE_sklearn)\n",
    "\n",
    "model.coef_ , model.intercept_ , MSE_sklearn , RMSE_sklearn"
   ]
  },
  {
   "cell_type": "markdown",
   "id": "efdef1ad-3f08-4969-bca4-86fa2482f18a",
   "metadata": {},
   "source": [
    "### Naive Bayes withouot sklearn"
   ]
  },
  {
   "cell_type": "code",
   "execution_count": 45,
   "id": "7d42387d-b64e-406f-b9a3-d9db4afc47bd",
   "metadata": {},
   "outputs": [
    {
     "name": "stdout",
     "output_type": "stream",
     "text": [
      "P(Play=Yes | Sunny) = 0.19999999999999998\n"
     ]
    }
   ],
   "source": [
    "data = pd.DataFrame({\n",
    "    'Feature': ['Sunny', 'Rainy', 'Overcast', 'Sunny', 'Rainy'],\n",
    "    'Play': ['No', 'Yes', 'Yes', 'Yes', 'No']\n",
    "})\n",
    "\n",
    "p_yes = len(data[data[\"Play\"]== \"Yes\"]) / len(data)\n",
    "p_no = len(data[data[\"Play\"]== \"No\"]) / len(data)\n",
    "\n",
    "p_sunny_given_yes = len(data[(data[\"Feature\"] == \"Sunny\") & (data[\"Play\"]== \"Yes\")]) / len(data[data['Play'] == 'Yes'])\n",
    "\n",
    "p_yes_given_sunny = p_sunny_given_yes * p_yes\n",
    "\n",
    "print(f\"P(Play=Yes | Sunny) = {p_yes_given_sunny}\")"
   ]
  },
  {
   "cell_type": "markdown",
   "id": "c2f693bd-1f25-45ce-871a-fcb724cff1a3",
   "metadata": {},
   "source": [
    "### Naive Bayes with sklearn"
   ]
  },
  {
   "cell_type": "code",
   "execution_count": 51,
   "id": "68972587-a901-4383-a6ba-0645cee2e92c",
   "metadata": {},
   "outputs": [
    {
     "name": "stdout",
     "output_type": "stream",
     "text": [
      "Prediction for [[1, 0]]: [1]\n"
     ]
    }
   ],
   "source": [
    "X = np.array([[1, 0], [0, 1], [1, 1], [0, 0]])\n",
    "y = np.array([1, 0, 1, 0])\n",
    "\n",
    "nb = GaussianNB()\n",
    "\n",
    "nb.fit(X,y)\n",
    "\n",
    "print(f\"Prediction for [[1, 0]]: {nb.predict([[1, 0]])}\")"
   ]
  },
  {
   "cell_type": "code",
   "execution_count": null,
   "id": "c0348ea1-e442-4d32-9ecf-23bfe7938f5c",
   "metadata": {},
   "outputs": [],
   "source": []
  }
 ],
 "metadata": {
  "kernelspec": {
   "display_name": "Python 3 (ipykernel)",
   "language": "python",
   "name": "python3"
  },
  "language_info": {
   "codemirror_mode": {
    "name": "ipython",
    "version": 3
   },
   "file_extension": ".py",
   "mimetype": "text/x-python",
   "name": "python",
   "nbconvert_exporter": "python",
   "pygments_lexer": "ipython3",
   "version": "3.12.4"
  }
 },
 "nbformat": 4,
 "nbformat_minor": 5
}
