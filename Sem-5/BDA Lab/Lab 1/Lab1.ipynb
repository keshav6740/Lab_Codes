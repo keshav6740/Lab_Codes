{
 "cells": [
  {
   "cell_type": "markdown",
   "metadata": {},
   "source": [
    "# Lab 1 - Introduction to Basic PySpark Programs"
   ]
  },
  {
   "cell_type": "code",
   "execution_count": 10,
   "metadata": {},
   "outputs": [],
   "source": [
    "import os\n",
    "import sys\n",
    "from pyspark import SparkContext\n",
    "from pyspark import SparkConf\n",
    "os.environ['PYSPARK_PYTHON'] = sys.executable\n",
    "os.environ['PYSPARK_DRIVER_PYTHON'] = sys.executable\n",
    "from pyspark.sql import SparkSession"
   ]
  },
  {
   "cell_type": "code",
   "execution_count": 11,
   "metadata": {},
   "outputs": [],
   "source": [
    "spark = SparkSession.builder.config(\"spark.driver.memory\", \"16g\").appName('square').getOrCreate()\n",
    "\n",
    "spark=SparkSession.builder.appName('DATA ANALYSIS').getOrCreate()"
   ]
  },
  {
   "cell_type": "code",
   "execution_count": 12,
   "metadata": {},
   "outputs": [
    {
     "name": "stdout",
     "output_type": "stream",
     "text": [
      "root\n",
      " |-- integers: long (nullable = true)\n",
      " |-- floats: double (nullable = true)\n",
      " |-- integer_arrays: array (nullable = true)\n",
      " |    |-- element: long (containsNull = true)\n",
      "\n",
      "+--------+------+--------------+\n",
      "|integers|floats|integer_arrays|\n",
      "+--------+------+--------------+\n",
      "|       1|  -1.0|        [1, 2]|\n",
      "|       2|   0.5|     [3, 4, 5]|\n",
      "|       3|   2.7|  [6, 7, 8, 9]|\n",
      "+--------+------+--------------+\n",
      "\n"
     ]
    }
   ],
   "source": [
    "import pandas as pd\n",
    "from pyspark.sql import functions as F\n",
    "df_pd = pd.DataFrame(\n",
    "data={'integers': [1, 2, 3],\n",
    "'floats': [-1.0, 0.5, 2.7],\n",
    "'integer_arrays': [[1, 2], [3, 4, 5], [6, 7, 8, 9]]}\n",
    ")\n",
    "df = spark.createDataFrame(df_pd)\n",
    "df.printSchema() \n",
    "df.show()"
   ]
  },
  {
   "cell_type": "markdown",
   "metadata": {},
   "source": [
    "# Question 1"
   ]
  },
  {
   "cell_type": "code",
   "execution_count": 13,
   "metadata": {},
   "outputs": [
    {
     "name": "stdout",
     "output_type": "stream",
     "text": [
      "+--------+-----------+\n",
      "|integers|int_squared|\n",
      "+--------+-----------+\n",
      "|       1|          1|\n",
      "|       2|          4|\n",
      "|       3|          9|\n",
      "+--------+-----------+\n",
      "\n"
     ]
    }
   ],
   "source": [
    "from pyspark.sql.functions import udf\n",
    "@udf\n",
    "def square(x):\n",
    "    return x*x\n",
    "\n",
    "df.select('integers',square('integers').alias('int_squared')).show()"
   ]
  },
  {
   "cell_type": "markdown",
   "metadata": {},
   "source": [
    "# Question 2"
   ]
  },
  {
   "cell_type": "code",
   "execution_count": 14,
   "metadata": {},
   "outputs": [
    {
     "name": "stdout",
     "output_type": "stream",
     "text": [
      "3\n"
     ]
    }
   ],
   "source": [
    "print(df.select(\"integers\").rdd.max()[0])"
   ]
  },
  {
   "cell_type": "markdown",
   "metadata": {},
   "source": [
    "# Question 3"
   ]
  },
  {
   "cell_type": "code",
   "execution_count": 15,
   "metadata": {},
   "outputs": [
    {
     "name": "stdout",
     "output_type": "stream",
     "text": [
      "+-------------+\n",
      "|avg(integers)|\n",
      "+-------------+\n",
      "|          2.0|\n",
      "+-------------+\n",
      "\n",
      "None\n"
     ]
    }
   ],
   "source": [
    "print(df.agg(F.avg(df['integers'])).show())"
   ]
  },
  {
   "cell_type": "markdown",
   "metadata": {},
   "source": [
    "# Question 4"
   ]
  },
  {
   "cell_type": "code",
   "execution_count": 16,
   "metadata": {},
   "outputs": [],
   "source": [
    "df=spark.read.csv('data.csv',header=\"True\", inferSchema=\"True\")"
   ]
  },
  {
   "cell_type": "markdown",
   "metadata": {},
   "source": [
    "# Question 5"
   ]
  },
  {
   "cell_type": "code",
   "execution_count": 17,
   "metadata": {},
   "outputs": [
    {
     "name": "stdout",
     "output_type": "stream",
     "text": [
      "root\n",
      " |-- Name: string (nullable = true)\n",
      " |-- Age: integer (nullable = true)\n",
      "\n",
      "+---------+---+\n",
      "|     Name|Age|\n",
      "+---------+---+\n",
      "|    Alice| 34|\n",
      "|      Bob| 45|\n",
      "|Catherine| 29|\n",
      "+---------+---+\n",
      "\n"
     ]
    },
    {
     "data": {
      "text/plain": [
       "Row(Name='Alice', Age=34)"
      ]
     },
     "execution_count": 17,
     "metadata": {},
     "output_type": "execute_result"
    }
   ],
   "source": [
    "df.printSchema()\n",
    "df.show()\n",
    "df.head()"
   ]
  },
  {
   "cell_type": "markdown",
   "metadata": {},
   "source": [
    "# Question 6"
   ]
  },
  {
   "cell_type": "code",
   "execution_count": 18,
   "metadata": {},
   "outputs": [
    {
     "name": "stdout",
     "output_type": "stream",
     "text": [
      "+-------+---------+----------------+\n",
      "|summary|     Name|             Age|\n",
      "+-------+---------+----------------+\n",
      "|  count|        3|               3|\n",
      "|   mean|     null|            36.0|\n",
      "| stddev|     null|8.18535277187245|\n",
      "|    min|    Alice|              29|\n",
      "|    25%|     null|              29|\n",
      "|    50%|     null|              34|\n",
      "|    75%|     null|              45|\n",
      "|    max|Catherine|              45|\n",
      "+-------+---------+----------------+\n",
      "\n",
      "+-------+----------------+\n",
      "|summary|             age|\n",
      "+-------+----------------+\n",
      "|  count|               3|\n",
      "|   mean|            36.0|\n",
      "| stddev|8.18535277187245|\n",
      "|    min|              29|\n",
      "|    25%|              29|\n",
      "|    50%|              34|\n",
      "|    75%|              45|\n",
      "|    max|              45|\n",
      "+-------+----------------+\n",
      "\n"
     ]
    }
   ],
   "source": [
    "df.summary().show()\n",
    "df.select('age').summary().show()"
   ]
  }
 ],
 "metadata": {
  "kernelspec": {
   "display_name": "Python 3",
   "language": "python",
   "name": "python3"
  },
  "language_info": {
   "codemirror_mode": {
    "name": "ipython",
    "version": 3
   },
   "file_extension": ".py",
   "mimetype": "text/x-python",
   "name": "python",
   "nbconvert_exporter": "python",
   "pygments_lexer": "ipython3",
   "version": "3.7.0"
  }
 },
 "nbformat": 4,
 "nbformat_minor": 2
}
