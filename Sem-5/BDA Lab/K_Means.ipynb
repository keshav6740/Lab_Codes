{
 "cells": [
  {
   "cell_type": "markdown",
   "metadata": {},
   "source": [
    "# Lab 7: Anomaly detection with K-means Clustering"
   ]
  },
  {
   "cell_type": "code",
   "execution_count": 1,
   "metadata": {},
   "outputs": [],
   "source": [
    "from pyspark.sql import SparkSession\n",
    "from pyspark.sql.functions import col\n",
    "from pyspark.ml.feature import StandardScaler, VectorAssembler\n",
    "from pyspark.ml.feature import Imputer"
   ]
  },
  {
   "cell_type": "code",
   "execution_count": 2,
   "metadata": {},
   "outputs": [
    {
     "name": "stderr",
     "output_type": "stream",
     "text": [
      "/home/lplab/anaconda3/lib/python3.7/site-packages/pyspark/context.py:317: FutureWarning: Python 3.7 support is deprecated in Spark 3.4.\n",
      "  warnings.warn(\"Python 3.7 support is deprecated in Spark 3.4.\", FutureWarning)\n"
     ]
    }
   ],
   "source": [
    "# Start Spark session\n",
    "spark = SparkSession.builder.appName(\"DataPreprocessing\").getOrCreate()"
   ]
  },
  {
   "cell_type": "markdown",
   "metadata": {},
   "source": [
    "## Data input"
   ]
  },
  {
   "cell_type": "code",
   "execution_count": 19,
   "metadata": {},
   "outputs": [],
   "source": [
    "# Load data\n",
    "data = spark.read.csv(\"kddcup.data_10_percent_corrected\", header=False, inferSchema=True)\n",
    "\n",
    "# Define the schema based on the dataset\n",
    "# Assuming the columns are unnamed, you'll need to provide column names\n",
    "data = data.toDF(\"col1\", \"col2\", \"col3\", \"col4\", \"col5\", \"col6\", \"col7\", \"col8\", \"col9\", \"col10\", \n",
    "                  \"col11\", \"col12\", \"col13\", \"col14\", \"col15\", \"col16\", \"col17\", \"col18\", \"col19\", \"col20\", \n",
    "                  \"col21\", \"col22\", \"col23\", \"col24\", \"col25\", \"col26\", \"col27\", \"col28\", \"col29\", \"col30\", \n",
    "                  \"col31\", \"col32\", \"col33\", \"col34\", \"col35\", \"col36\", \"col37\",\"col38\",\"col39\",\"col40\", \"col41\",\"label\")"
   ]
  },
  {
   "cell_type": "code",
   "execution_count": 20,
   "metadata": {},
   "outputs": [],
   "source": [
    "# Handle missing values\n",
    "# Imputer is used to fill missing values with the mean of each column\n",
    "imputer = Imputer(inputCols=[\"col5\", \"col6\", \"col7\", \"col8\", \"col9\", \"col10\", \"col11\", \"col12\", \"col13\",\n",
    "                             \"col14\", \"col15\", \"col16\", \"col17\", \"col18\", \"col19\", \"col20\", \"col21\", \"col22\",\n",
    "                             \"col23\", \"col24\", \"col25\", \"col26\", \"col27\", \"col28\", \"col29\", \"col30\", \"col31\",\n",
    "                             \"col32\", \"col33\", \"col34\", \"col35\", \"col36\", \"col37\",\"col38\",\"col39\",\"col40\", \"col41\"],\n",
    "                   outputCols=[\"col5\", \"col6\", \"col7\", \"col8\", \"col9\", \"col10\", \"col11\", \"col12\", \"col13\",\n",
    "                               \"col14\", \"col15\", \"col16\", \"col17\", \"col18\", \"col19\", \"col20\", \"col21\", \"col22\",\n",
    "                               \"col23\", \"col24\", \"col25\", \"col26\", \"col27\", \"col28\", \"col29\", \"col30\", \"col31\",\n",
    "                               \"col32\", \"col33\", \"col34\", \"col35\", \"col36\", \"col37\",\"col38\",\"col39\",\"col40\", \"col41\"]).setStrategy(\"mean\")\n",
    "\n",
    "data = imputer.fit(data).transform(data)\n",
    "\n",
    "# Scale numerical features\n",
    "feature_cols = [\"col5\", \"col6\", \"col7\", \"col8\", \"col9\", \"col10\", \"col11\", \"col12\", \"col13\", \n",
    "                \"col14\", \"col15\", \"col16\", \"col17\", \"col18\", \"col19\", \"col20\", \"col21\", \"col22\", \n",
    "                \"col23\", \"col24\", \"col25\", \"col26\", \"col27\", \"col28\", \"col29\", \"col30\", \"col31\", \n",
    "                \"col32\", \"col33\", \"col34\", \"col35\", \"col36\", \"col37\",\"col38\",\"col39\",\"col40\", \"col41\"]"
   ]
  },
  {
   "cell_type": "code",
   "execution_count": 21,
   "metadata": {},
   "outputs": [
    {
     "name": "stdout",
     "output_type": "stream",
     "text": [
      "+----+----+----+----+----+----+----+----+----+-----+-----+-----+-----+-----+-----+-----+-----+-----+-----+-----+-----+-----+-----+-----+-----+-----+-----+-----+-----+-----+-----+-----+-----+-----+-----+-----+-----+-----+-----+-----+-----+-------+--------------------+--------------------+\n",
      "|col1|col2|col3|col4|col5|col6|col7|col8|col9|col10|col11|col12|col13|col14|col15|col16|col17|col18|col19|col20|col21|col22|col23|col24|col25|col26|col27|col28|col29|col30|col31|col32|col33|col34|col35|col36|col37|col38|col39|col40|col41|  label|            features|     scaled_features|\n",
      "+----+----+----+----+----+----+----+----+----+-----+-----+-----+-----+-----+-----+-----+-----+-----+-----+-----+-----+-----+-----+-----+-----+-----+-----+-----+-----+-----+-----+-----+-----+-----+-----+-----+-----+-----+-----+-----+-----+-------+--------------------+--------------------+\n",
      "|   0| tcp|http|  SF| 181|5450|   0|   0|   0|    0|    0|    1|    0|    0|    0|    0|    0|    0|    0|    0|    0|    0|    8|    8|  0.0|  0.0|  0.0|  0.0|  1.0|  0.0|  0.0|    9|    9|  1.0|  0.0| 0.11|  0.0|  0.0|  0.0|  0.0|  0.0|normal.|(37,[0,1,7,18,19,...|[-0.0028785247840...|\n",
      "|   0| tcp|http|  SF| 239| 486|   0|   0|   0|    0|    0|    1|    0|    0|    0|    0|    0|    0|    0|    0|    0|    0|    8|    8|  0.0|  0.0|  0.0|  0.0|  1.0|  0.0|  0.0|   19|   19|  1.0|  0.0| 0.05|  0.0|  0.0|  0.0|  0.0|  0.0|normal.|(37,[0,1,7,18,19,...|[-0.0028198332867...|\n",
      "|   0| tcp|http|  SF| 235|1337|   0|   0|   0|    0|    0|    1|    0|    0|    0|    0|    0|    0|    0|    0|    0|    0|    8|    8|  0.0|  0.0|  0.0|  0.0|  1.0|  0.0|  0.0|   29|   29|  1.0|  0.0| 0.03|  0.0|  0.0|  0.0|  0.0|  0.0|normal.|(37,[0,1,7,18,19,...|[-0.0028238809762...|\n",
      "+----+----+----+----+----+----+----+----+----+-----+-----+-----+-----+-----+-----+-----+-----+-----+-----+-----+-----+-----+-----+-----+-----+-----+-----+-----+-----+-----+-----+-----+-----+-----+-----+-----+-----+-----+-----+-----+-----+-------+--------------------+--------------------+\n",
      "only showing top 3 rows\n",
      "\n"
     ]
    }
   ],
   "source": [
    "assembler = VectorAssembler(inputCols=feature_cols, outputCol=\"features\")\n",
    "data = assembler.transform(data)\n",
    "\n",
    "scaler = StandardScaler(inputCol=\"features\", outputCol=\"scaled_features\", withStd=True, withMean=True)\n",
    "data = scaler.fit(data).transform(data)\n",
    "\n",
    "data.show(3)"
   ]
  },
  {
   "cell_type": "markdown",
   "metadata": {},
   "source": [
    "## K-Means Clustering"
   ]
  },
  {
   "cell_type": "code",
   "execution_count": 22,
   "metadata": {},
   "outputs": [
    {
     "name": "stdout",
     "output_type": "stream",
     "text": [
      "+----+----+----+----+----+----+----+----+----+-----+-----+-----+-----+-----+-----+-----+-----+-----+-----+-----+-----+-----+-----+-----+-----+-----+-----+-----+-----+-----+-----+-----+-----+-----+-----+-----+-----+-----+-----+-----+-----+-------+--------------------+--------------------+-------+\n",
      "|col1|col2|col3|col4|col5|col6|col7|col8|col9|col10|col11|col12|col13|col14|col15|col16|col17|col18|col19|col20|col21|col22|col23|col24|col25|col26|col27|col28|col29|col30|col31|col32|col33|col34|col35|col36|col37|col38|col39|col40|col41|  label|            features|     scaled_features|cluster|\n",
      "+----+----+----+----+----+----+----+----+----+-----+-----+-----+-----+-----+-----+-----+-----+-----+-----+-----+-----+-----+-----+-----+-----+-----+-----+-----+-----+-----+-----+-----+-----+-----+-----+-----+-----+-----+-----+-----+-----+-------+--------------------+--------------------+-------+\n",
      "|   0| tcp|http|  SF| 181|5450|   0|   0|   0|    0|    0|    1|    0|    0|    0|    0|    0|    0|    0|    0|    0|    0|    8|    8|  0.0|  0.0|  0.0|  0.0|  1.0|  0.0|  0.0|    9|    9|  1.0|  0.0| 0.11|  0.0|  0.0|  0.0|  0.0|  0.0|normal.|(37,[0,1,7,18,19,...|[-0.0028785247840...|     67|\n",
      "|   0| tcp|http|  SF| 239| 486|   0|   0|   0|    0|    0|    1|    0|    0|    0|    0|    0|    0|    0|    0|    0|    0|    8|    8|  0.0|  0.0|  0.0|  0.0|  1.0|  0.0|  0.0|   19|   19|  1.0|  0.0| 0.05|  0.0|  0.0|  0.0|  0.0|  0.0|normal.|(37,[0,1,7,18,19,...|[-0.0028198332867...|     67|\n",
      "|   0| tcp|http|  SF| 235|1337|   0|   0|   0|    0|    0|    1|    0|    0|    0|    0|    0|    0|    0|    0|    0|    0|    8|    8|  0.0|  0.0|  0.0|  0.0|  1.0|  0.0|  0.0|   29|   29|  1.0|  0.0| 0.03|  0.0|  0.0|  0.0|  0.0|  0.0|normal.|(37,[0,1,7,18,19,...|[-0.0028238809762...|     67|\n",
      "+----+----+----+----+----+----+----+----+----+-----+-----+-----+-----+-----+-----+-----+-----+-----+-----+-----+-----+-----+-----+-----+-----+-----+-----+-----+-----+-----+-----+-----+-----+-----+-----+-----+-----+-----+-----+-----+-----+-------+--------------------+--------------------+-------+\n",
      "only showing top 3 rows\n",
      "\n"
     ]
    }
   ],
   "source": [
    "from pyspark.ml.clustering import KMeans\n",
    "from pyspark.ml.evaluation import ClusteringEvaluator\n",
    "\n",
    "# K-means clustering\n",
    "kmeans = KMeans(k=80, seed=1, featuresCol=\"scaled_features\", predictionCol=\"cluster\")\n",
    "model = kmeans.fit(data)\n",
    "clusters = model.transform(data)\n",
    "\n",
    "clusters.show(3)"
   ]
  },
  {
   "cell_type": "markdown",
   "metadata": {},
   "source": [
    "## Labeling data points as anomalies"
   ]
  },
  {
   "cell_type": "code",
   "execution_count": 23,
   "metadata": {},
   "outputs": [
    {
     "name": "stdout",
     "output_type": "stream",
     "text": [
      "+----+----+----+----+----+----+----+----+----+-----+-----+-----+-----+-----+-----+-----+-----+-----+-----+-----+-----+-----+-----+-----+-----+-----+-----+-----+-----+-----+-----+-----+-----+-----+-----+-----+-----+-----+-----+-----+-----+-------+--------------------+--------------------+-------+------------------+----------+\n",
      "|col1|col2|col3|col4|col5|col6|col7|col8|col9|col10|col11|col12|col13|col14|col15|col16|col17|col18|col19|col20|col21|col22|col23|col24|col25|col26|col27|col28|col29|col30|col31|col32|col33|col34|col35|col36|col37|col38|col39|col40|col41|  label|            features|     scaled_features|cluster|distance_to_center|is_anomaly|\n",
      "+----+----+----+----+----+----+----+----+----+-----+-----+-----+-----+-----+-----+-----+-----+-----+-----+-----+-----+-----+-----+-----+-----+-----+-----+-----+-----+-----+-----+-----+-----+-----+-----+-----+-----+-----+-----+-----+-----+-------+--------------------+--------------------+-------+------------------+----------+\n",
      "|   0| tcp|http|  SF| 181|5450|   0|   0|   0|    0|    0|    1|    0|    0|    0|    0|    0|    0|    0|    0|    0|    0|    8|    8|  0.0|  0.0|  0.0|  0.0|  1.0|  0.0|  0.0|    9|    9|  1.0|  0.0| 0.11|  0.0|  0.0|  0.0|  0.0|  0.0|normal.|(37,[0,1,7,18,19,...|[-0.0028785247840...|     67|         1.5105318|      true|\n",
      "|   0| tcp|http|  SF| 239| 486|   0|   0|   0|    0|    0|    1|    0|    0|    0|    0|    0|    0|    0|    0|    0|    0|    8|    8|  0.0|  0.0|  0.0|  0.0|  1.0|  0.0|  0.0|   19|   19|  1.0|  0.0| 0.05|  0.0|  0.0|  0.0|  0.0|  0.0|normal.|(37,[0,1,7,18,19,...|[-0.0028198332867...|     67|         1.4017612|      true|\n",
      "|   0| tcp|http|  SF| 235|1337|   0|   0|   0|    0|    0|    1|    0|    0|    0|    0|    0|    0|    0|    0|    0|    0|    8|    8|  0.0|  0.0|  0.0|  0.0|  1.0|  0.0|  0.0|   29|   29|  1.0|  0.0| 0.03|  0.0|  0.0|  0.0|  0.0|  0.0|normal.|(37,[0,1,7,18,19,...|[-0.0028238809762...|     67|         1.3096797|      true|\n",
      "+----+----+----+----+----+----+----+----+----+-----+-----+-----+-----+-----+-----+-----+-----+-----+-----+-----+-----+-----+-----+-----+-----+-----+-----+-----+-----+-----+-----+-----+-----+-----+-----+-----+-----+-----+-----+-----+-----+-------+--------------------+--------------------+-------+------------------+----------+\n",
      "only showing top 3 rows\n",
      "\n"
     ]
    }
   ],
   "source": [
    "from pyspark.sql.functions import udf\n",
    "from pyspark.sql.types import BooleanType\n",
    "import numpy as np\n",
    "from pyspark.sql.types import FloatType\n",
    "\n",
    "# Get cluster centers\n",
    "centers = np.array(model.clusterCenters())\n",
    "\n",
    "# Calculate distances from points to cluster centers\n",
    "def distance_to_center(features, center):\n",
    "    return float(np.sqrt(np.sum((np.array(features) - np.array(center)) ** 2)))\n",
    "\n",
    "distance_udf = udf(lambda features: min([distance_to_center(features, center) for center in centers]), FloatType())\n",
    "\n",
    "clusters = clusters.withColumn(\"distance_to_center\", distance_udf(col(\"scaled_features\")))\n",
    "\n",
    "# Define anomaly if distance is greater than a threshold\n",
    "threshold = 1.0  # Set a suitable threshold\n",
    "clusters = clusters.withColumn(\"is_anomaly\", col(\"distance_to_center\") > threshold)\n",
    "\n",
    "clusters.show(3)"
   ]
  },
  {
   "cell_type": "markdown",
   "metadata": {},
   "source": [
    "## Evaluating K-Means Clustering for anomalies"
   ]
  },
  {
   "cell_type": "code",
   "execution_count": 24,
   "metadata": {},
   "outputs": [
    {
     "name": "stdout",
     "output_type": "stream",
     "text": [
      "Silhouette with squared Euclidean distance = 0.8907618402151812\n",
      "Number of anomalies: 41775\n",
      "Number of normal points: 452246\n",
      "Total number of points: 494021\n"
     ]
    }
   ],
   "source": [
    "evaluator = ClusteringEvaluator(featuresCol=\"scaled_features\", predictionCol=\"cluster\")\n",
    "silhouette = evaluator.evaluate(clusters)\n",
    "print(f\"Silhouette with squared Euclidean distance = {silhouette}\")\n",
    "\n",
    "# Print the number of anomalies and normal points\n",
    "num_anomalies = clusters.filter(col(\"is_anomaly\")).count()\n",
    "num_normal = clusters.filter(~col(\"is_anomaly\")).count()\n",
    "total_count = clusters.count()\n",
    "\n",
    "print(f\"Number of anomalies: {num_anomalies}\")\n",
    "print(f\"Number of normal points: {num_normal}\")\n",
    "print(f\"Total number of points: {total_count}\")"
   ]
  }
 ],
 "metadata": {
  "kernelspec": {
   "display_name": "Python 3 (ipykernel)",
   "language": "python",
   "name": "python3"
  },
  "language_info": {
   "codemirror_mode": {
    "name": "ipython",
    "version": 3
   },
   "file_extension": ".py",
   "mimetype": "text/x-python",
   "name": "python",
   "nbconvert_exporter": "python",
   "pygments_lexer": "ipython3",
   "version": "3.7.0"
  }
 },
 "nbformat": 4,
 "nbformat_minor": 2
}
